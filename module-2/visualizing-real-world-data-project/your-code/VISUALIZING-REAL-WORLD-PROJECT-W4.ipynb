{
 "cells": [
  {
   "cell_type": "code",
   "execution_count": null,
   "metadata": {},
   "outputs": [],
   "source": [
    "import numpy as np\n",
    "import pandas as pd\n",
    "import folium\n",
    "import pymongo\n",
    "from pymongo import MongoClient\n",
    "client=MongoClient('localhost',27017)\n",
    "db=client.Companies\n",
    "import folium\n",
    "from folium import plugins\n",
    "from folium.plugins import HeatMap\n",
    "import math\n",
    "import gmplot"
   ]
  },
  {
   "cell_type": "code",
   "execution_count": null,
   "metadata": {},
   "outputs": [],
   "source": [
    "#Lista con las únicas categorias que hay en toda la base\n",
    "kind=[e for e in db.Companies.find().distinct('category_code')]"
   ]
  },
  {
   "cell_type": "code",
   "execution_count": null,
   "metadata": {},
   "outputs": [],
   "source": [
    "def validation_companies():\n",
    "    i=0\n",
    "    while i==0:\n",
    "        j=0\n",
    "        x=input(\"Enlista, por comas y de acuerdo a la lista anterior, las categorías de las compañias que la Startup va a necesitar: \")\n",
    "        ent=x.split(\",\")\n",
    "        for e in ent:\n",
    "            if e in kind:\n",
    "                print(\"{} si está en la lista\".format(e))\n",
    "                j+=1\n",
    "            else:\n",
    "                print(\"{} no está en la lista\".format(e))       \n",
    "                i=0\n",
    "        if j==len(ent):i=1\n",
    "    return ent           \n",
    "\n",
    "def validation_principal(ent):\n",
    "    i=0\n",
    "    while i==0:\n",
    "        x=input(\"Ingresa la categoría de la compañia que es principal para la startup:\")\n",
    "        if x in kind and x in ent:\n",
    "            print(\"{} si está en la lista\".format(x))\n",
    "            i=1\n",
    "        else:\n",
    "            print(\"{} no está en la lista\".format(x))       \n",
    "            i=0    \n",
    "    return x        \n",
    "                \n",
    "#entradas=validation_companies()\n",
    "#principal=validation_principal(entradas)"
   ]
  },
  {
   "cell_type": "code",
   "execution_count": null,
   "metadata": {},
   "outputs": [],
   "source": [
    "#Funcion que calcula la distancia de dos puntos\n",
    "def dist(p1,p2):\n",
    "    x1,x2,y1,y2=p1[0],p2[0],p1[1],p2[1]\n",
    "    dist=math.sqrt((x2-x1)**2 + (y2-y1)**2)\n",
    "    return round(dist,2)"
   ]
  },
  {
   "cell_type": "code",
   "execution_count": null,
   "metadata": {
    "scrolled": false
   },
   "outputs": [],
   "source": [
    "#Listas de todas las compañias de acuerdo al tipo que le des, typ es la categoria\n",
    "def lstcompañias(typ):\n",
    "    return list(db.Companies.find({'category_code':typ},{'_id':0,'name':1,'offices.latitude':1,'offices.longitude':1}).sort('name',pymongo.ASCENDING))"
   ]
  },
  {
   "cell_type": "code",
   "execution_count": null,
   "metadata": {},
   "outputs": [],
   "source": [
    "#compañias[0] es una lista con todas las oficinas de las compañias de la primer categoria ingresada\n",
    "compañias=list(map(lstcompañias,entradas))"
   ]
  },
  {
   "cell_type": "code",
   "execution_count": null,
   "metadata": {},
   "outputs": [],
   "source": [
    "#Lista con las latitudes de las compañias que ingresas, compañia[i] es cada categoria ingresada\n",
    "def lats(compañia):\n",
    "    dirtlat=[e['offices'][f]['latitude'] for e in compañia for f in range(len(e['offices']))]\n",
    "    lat=[e for e in dirtlat if e!=None]\n",
    "    return lat"
   ]
  },
  {
   "cell_type": "code",
   "execution_count": null,
   "metadata": {},
   "outputs": [],
   "source": [
    "#latitudes[0] son las latitudes de todas las oficinas de la compañia referida en compañia[0]\n",
    "latitudes=list(map(lats,compañias))"
   ]
  },
  {
   "cell_type": "code",
   "execution_count": null,
   "metadata": {},
   "outputs": [],
   "source": [
    "#Lista con las longitudes de las compañias que ingresas, compañia[i] es cada categoria ingresada\n",
    "def lons(compañia):\n",
    "    dirtlon=[e['offices'][f]['longitude'] for e in compañia for f in range(len(e['offices']))]\n",
    "    lon=[e for e in dirtlon if e!=None]\n",
    "    return lon"
   ]
  },
  {
   "cell_type": "code",
   "execution_count": null,
   "metadata": {},
   "outputs": [],
   "source": [
    "#longitudes[0] son las longitudes de todas las oficinas de la compañia referida en compañia[0]\n",
    "longitudes=list(map(lons,compañias))"
   ]
  },
  {
   "cell_type": "code",
   "execution_count": null,
   "metadata": {},
   "outputs": [],
   "source": [
    "#Lista de coordenadas de las oficinas de la categoria seleccionada\n",
    "def coord(la,lo):\n",
    "    loc=list(zip(la,lo))\n",
    "    return loc"
   ]
  },
  {
   "cell_type": "code",
   "execution_count": null,
   "metadata": {},
   "outputs": [],
   "source": [
    "#coordenadas[0] son las coordenadas de las oficinas de  de las compañia referida en compañia[0]\n",
    "coordenadas=[coord(latitudes[e],longitudes[e]) for e in range(len(entradas))]"
   ]
  },
  {
   "cell_type": "code",
   "execution_count": null,
   "metadata": {},
   "outputs": [],
   "source": [
    "base=entradas.index(principal)"
   ]
  },
  {
   "cell_type": "code",
   "execution_count": null,
   "metadata": {},
   "outputs": [],
   "source": [
    "coordenadas_principal=coordenadas[base]"
   ]
  },
  {
   "cell_type": "code",
   "execution_count": null,
   "metadata": {},
   "outputs": [],
   "source": [
    "del coordenadas[base]\n",
    "del entradas[base]"
   ]
  },
  {
   "cell_type": "code",
   "execution_count": null,
   "metadata": {},
   "outputs": [],
   "source": [
    "#Funcion que calcula la distancia de la oficina principal a otra especificada\n",
    "def dist_principal(p2):\n",
    "    p1=coordenadas_principal[0]\n",
    "    x1,x2,y1,y2=p1[0],p2[0],p1[1],p2[1]\n",
    "    dist=math.sqrt((x2-x1)**2 + (y2-y1)**2)\n",
    "    return round(dist,2)"
   ]
  },
  {
   "cell_type": "code",
   "execution_count": null,
   "metadata": {},
   "outputs": [],
   "source": [
    "#Lista de distancias minimas de la oficina principal a una oficina de cada categoría\n",
    "distancias_minimas=[min(list(map(dist_principal,coordenadas[e]))) for e  in range(len(coordenadas))]"
   ]
  },
  {
   "cell_type": "code",
   "execution_count": null,
   "metadata": {},
   "outputs": [],
   "source": [
    "#Lista de indices de las coordenadas que corresponden al punto mas cercano a la oficina principal\n",
    "indices=[list(map(dist_principal,coordenadas[e])).index(distancias_minimas[e]) for e in range(len(distancias_minimas))]"
   ]
  },
  {
   "cell_type": "code",
   "execution_count": null,
   "metadata": {},
   "outputs": [],
   "source": [
    "#Etiqueta de la oficina principal y etiquetas de las demas oficinas indicadas en las categorias\n",
    "labelprincipal=list(db.Companies.find({'$and':[{'category_code':principal},{'offices.latitude':coordenadas_principal[0][0]}]},{'_id':0,'name':1,'category_code':1}))\n",
    "labels=[list(db.Companies.find({'$and':[{'category_code':entradas[e]},{'offices.latitude':coordenadas[e][indices[e]][0]}]},{'_id':0,'name':1,'category_code':1})) for e in range(len(entradas))]"
   ]
  },
  {
   "cell_type": "code",
   "execution_count": null,
   "metadata": {},
   "outputs": [],
   "source": [
    "#Funcion que determina el punto medio, dado dos puntos\n",
    "def punto_medio(p1,p2):\n",
    "    x1,x2,y1,y2=p1[0],p2[0],p1[1],p2[1]\n",
    "    pm=((x1+x2)/2,(y1+y2)/2)\n",
    "    return pm"
   ]
  },
  {
   "cell_type": "code",
   "execution_count": null,
   "metadata": {},
   "outputs": [],
   "source": [
    "#Determino una lista con todos los puntos medios de la oficina principal a las demas oficinas\n",
    "puntos_medios=[punto_medio(coordenadas_principal[0],coordenadas[e][indices[e]]) for e in range(len(coordenadas))]"
   ]
  },
  {
   "cell_type": "code",
   "execution_count": null,
   "metadata": {},
   "outputs": [],
   "source": [
    "#Funcion que determina la mejor ubicacion de la oficina del startup\n",
    "def ubi():\n",
    "    if len(puntos_medios)%2==0 & len(puntos_medios)>2:\n",
    "        ubicacion=punto_medio(punto_medio(puntos_medios[0],puntos_medios[1]))\n",
    "        for e in range(2,len(puntos_medios)):\n",
    "            ubicacion=punto_medio(ubicacion,puntos_medios[e])\n",
    "        return ubicacion\n",
    "    elif len(puntos_medios)%2!=0 & len(puntos_medios)>2:\n",
    "        ubicacion=punto_medio(punto_medio(puntos_medios[0],puntos_medios[1]))\n",
    "        for e in range(2,len(puntos_medios)):\n",
    "            ubicacion=punto_medio(ubicacion,puntos_medios[e])\n",
    "        return ubicacion\n",
    "    else:\n",
    "        ubicacion=punto_medio(puntos_medios[0],puntos_medios[1])\n",
    "        return ubicacion\n",
    "    \n",
    "    \n"
   ]
  },
  {
   "cell_type": "code",
   "execution_count": null,
   "metadata": {},
   "outputs": [],
   "source": [
    "localization=ubi()"
   ]
  },
  {
   "cell_type": "code",
   "execution_count": null,
   "metadata": {},
   "outputs": [],
   "source": [
    "mapa=folium.Map(location=[coordenadas_principal[0][0],coordenadas_principal[0][1]],zoom_start=3) \n",
    "folium.Circle(radius=50,location=[coordenadas_principal[0][0],coordenadas_principal[0][1]],popup=labelprincipal,color='green').add_to(mapa)\n",
    "for e in range(len(entradas)):\n",
    "    folium.Circle(radius=50,location=[coordenadas[e][indices[e]][0],coordenadas[e][indices[e]][1]],popup=labels[e],color='crimson').add_to(mapa)\n",
    "folium.Circle(radius=50,location=[localization[0],localization[1]],popup='MEJOR UBICACION',color='blue').add_to(mapa)"
   ]
  },
  {
   "cell_type": "code",
   "execution_count": null,
   "metadata": {},
   "outputs": [],
   "source": [
    "#https://www.geeksforgeeks.org/python-plotting-google-map-using-gmplot-package/\n",
    "#https://github.com/vgm64/gmplot\n",
    "#gmap.marker(hidden_gem_lat, hidden_gem_lon, 'cornflowerblue')\n",
    "\n",
    "# Draw\n",
    "#gmap.draw(\"my_map.html\")"
   ]
  },
  {
   "cell_type": "code",
   "execution_count": null,
   "metadata": {},
   "outputs": [],
   "source": [
    "def premisa():\n",
    "    print(\"Hola, primero hay que definir una lista de categorias de compañias que la Startup va a necesitar posteriormente\\nhay que definir la categoria de la compañia que será de mayor peso para la Startup, por ejemplo\\nsi la Startup será con algo relacionado a circuitos electrónicos, Semiconductor sería la categoria principal...\")\n",
    "    return"
   ]
  },
  {
   "cell_type": "code",
   "execution_count": null,
   "metadata": {},
   "outputs": [],
   "source": [
    "def Search_best_location():\n",
    "    premisa()\n",
    "    entradas=validation_companies()\n",
    "    principal=validation_principal()\n",
    "    compañias=list(map(lstcompañias,entradas))\n",
    "    latitudes=list(map(lats,compañias))\n",
    "    longitudes=list(map(lons,compañias))\n",
    "    coordenadas=[coord(latitudes[e],longitudes[e]) for e in range(len(entradas))]\n",
    "    base=entradas.index(principal)\n",
    "    coordenadas_principal=coordenadas[base]\n",
    "    del coordenadas[base]\n",
    "    del entradas[base]\n",
    "    distancias_minimas=[min(list(map(dist_principal,coordenadas[e]))) for e  in range(len(coordenadas))]\n",
    "    indices=[list(map(dist_principal,coordenadas[e])).index(distancias_minimas[e]) for e in range(len(distancias_minimas))]\n",
    "    labelprincipal=list(db.Companies.find({'$and':[{'category_code':principal},{'offices.latitude':coordenadas_principal[0][0]}]},{'_id':0,'name':1,'category_code':1}))\n",
    "    labels=[list(db.Companies.find({'$and':[{'category_code':entradas[e]},{'offices.latitude':coordenadas[e][indices[e]][0]}]},{'_id':0,'name':1,'category_code':1})) for e in range(len(entradas))]\n",
    "    puntos_medios=[punto_medio(coordenadas_principal[0],coordenadas[e][indices[e]]) for e in range(len(coordenadas))]\n",
    "    localization=ubi()\n",
    "    mapa=folium.Map(location=[coordenadas_principal[0][0],coordenadas_principal[0][1]],zoom_start=3) \n",
    "    folium.Circle(radius=50,location=[coordenadas_principal[0][0],coordenadas_principal[0][1]],popup=labelprincipal,color='green').add_to(mapa)\n",
    "    for e in range(len(entradas)):\n",
    "        folium.Circle(radius=50,location=[coordenadas[e][indices[e]][0],coordenadas[e][indices[e]][1]],popup=labels[e],color='crimson').add_to(mapa)\n",
    "    folium.Circle(radius=50,location=[localization[0],localization[1]],popup='MEJOR UBICACION',color='blue').add_to(mapa)\n",
    "    return mapa"
   ]
  },
  {
   "cell_type": "code",
   "execution_count": null,
   "metadata": {},
   "outputs": [],
   "source": [
    "Search_best_location()"
   ]
  },
  {
   "cell_type": "code",
   "execution_count": null,
   "metadata": {},
   "outputs": [],
   "source": []
  }
 ],
 "metadata": {
  "kernelspec": {
   "display_name": "Python 3",
   "language": "python",
   "name": "python3"
  },
  "language_info": {
   "codemirror_mode": {
    "name": "ipython",
    "version": 3
   },
   "file_extension": ".py",
   "mimetype": "text/x-python",
   "name": "python",
   "nbconvert_exporter": "python",
   "pygments_lexer": "ipython3",
   "version": "3.6.8"
  }
 },
 "nbformat": 4,
 "nbformat_minor": 2
}
