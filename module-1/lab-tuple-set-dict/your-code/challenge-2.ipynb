{
 "cells": [
  {
   "cell_type": "markdown",
   "metadata": {},
   "source": [
    "## Challenge 2: Sets\n",
    "\n",
    "There are a lot to learn about Python Sets and the information presented in the lesson is limited due to its length. To learn Python Sets in depth you are strongly encouraged to review the W3Schools tutorial on [Python Sets Examples and Methods](https://www.w3schools.com/python/python_sets.asp) before you work on this lab. Some difficult questions in this lab have their solutions in the W3Schools tutorial.\n",
    "\n",
    "#### First, import the Python `random` libary"
   ]
  },
  {
   "cell_type": "code",
   "execution_count": null,
   "metadata": {},
   "outputs": [],
   "source": [
    "import random"
   ]
  },
  {
   "cell_type": "markdown",
   "metadata": {},
   "source": [
    "#### In the cell below, create a list named `sample_list_1` with 80 random values. \n",
    "\n",
    "Requirements:\n",
    "\n",
    "* Each value is an integer falling between 0 and 100.\n",
    "* Each value in the list is unique.\n",
    "\n",
    "Print `sample_list_1` to review its values\n",
    "\n",
    "*Hint: use `random.sample` ([reference](https://docs.python.org/3/library/random.html#random.sample)).*"
   ]
  },
  {
   "cell_type": "code",
   "execution_count": 24,
   "metadata": {},
   "outputs": [
    {
     "name": "stdout",
     "output_type": "stream",
     "text": [
      "[78, 74, 8, 69, 70, 18, 17, 88, 16, 39, 75, 12, 44, 83, 32, 36, 71, 66, 52, 68, 38, 47, 29, 87, 45, 23, 28, 94, 5, 10, 42, 76, 92, 80, 1, 22, 35, 60, 72, 77, 79, 0, 11, 15, 19, 89, 34, 54, 96, 98, 57, 2, 24, 82, 13, 99, 95, 21, 85, 97, 25, 46, 53, 31, 4, 37, 51, 56, 6, 41, 20, 43, 40, 93, 63, 90, 9, 67, 62, 49]\n",
      "\n",
      "Hay 80 elementos en la lista sample_list_1\n"
     ]
    }
   ],
   "source": [
    "# Your code here\n",
    "from random import sample\n",
    "sample_list_1=random.sample(range(100),k=80)\n",
    "print(sample_list_1)\n",
    "print(\"\\nHay %d elementos en la lista sample_list_1\" % len(sample_list_1))"
   ]
  },
  {
   "cell_type": "markdown",
   "metadata": {},
   "source": [
    "#### Convert `sample_list_1` to a set called `set1`. Print the length of the set. Is its length still 80?"
   ]
  },
  {
   "cell_type": "code",
   "execution_count": 27,
   "metadata": {},
   "outputs": [
    {
     "name": "stdout",
     "output_type": "stream",
     "text": [
      "{0, 1, 2, 4, 5, 6, 8, 9, 10, 11, 12, 13, 15, 16, 17, 18, 19, 20, 21, 22, 23, 24, 25, 28, 29, 31, 32, 34, 35, 36, 37, 38, 39, 40, 41, 42, 43, 44, 45, 46, 47, 49, 51, 52, 53, 54, 56, 57, 60, 62, 63, 66, 67, 68, 69, 70, 71, 72, 74, 75, 76, 77, 78, 79, 80, 82, 83, 85, 87, 88, 89, 90, 92, 93, 94, 95, 96, 97, 98, 99}\n",
      "\n",
      "Hay 80 elementos en la lista sample_list_1\n",
      "True\n"
     ]
    }
   ],
   "source": [
    "# Your code here\n",
    "set1=set(sample_list_1)\n",
    "print(set1)\n",
    "print(\"\\nHay %d elementos en la lista sample_list_1\" % len(set1))\n",
    "print(len(sample_list_1)==len(set1))"
   ]
  },
  {
   "cell_type": "markdown",
   "metadata": {},
   "source": [
    "#### Create another list named `sample_list_2` with 80 random values.\n",
    "\n",
    "Requirements:\n",
    "\n",
    "* Each value is an integer falling between 0 and 100.\n",
    "* The values in the list don't have to be unique.\n",
    "\n",
    "*Hint: Use a FOR loop.*"
   ]
  },
  {
   "cell_type": "code",
   "execution_count": 28,
   "metadata": {},
   "outputs": [
    {
     "name": "stdout",
     "output_type": "stream",
     "text": [
      "[28, 32, 79, 2, 55, 55, 13, 90, 64, 0, 22, 64, 20, 87, 79, 79, 3, 27, 37, 80, 45, 53, 96, 71, 4, 82, 84, 39, 46, 7, 13, 63, 0, 57, 54, 42, 65, 56, 5, 45, 88, 18, 56, 15, 86, 60, 89, 36, 75, 92, 43, 38, 4, 18, 3, 77, 28, 90, 76, 74, 11, 67, 6, 59, 60, 33, 76, 59, 1, 45, 87, 82, 13, 81, 98, 48, 40, 35, 42, 6]\n",
      "\n",
      "Hay 80 elementos en la lista sample_list_2\n"
     ]
    }
   ],
   "source": [
    "# Your code here\n",
    "import random\n",
    "sample_list_2=[]\n",
    "for i in range(1,81):\n",
    "    sample_list_2.append(random.randrange(0,100,1))\n",
    "print(sample_list_2)\n",
    "print(\"\\nHay %d elementos en la lista sample_list_2\" % len(sample_list_2))"
   ]
  },
  {
   "cell_type": "markdown",
   "metadata": {},
   "source": [
    "#### Convert `sample_list_2` to a set called `set2`. Print the length of the set. Is its length still 80?"
   ]
  },
  {
   "cell_type": "code",
   "execution_count": 29,
   "metadata": {},
   "outputs": [
    {
     "name": "stdout",
     "output_type": "stream",
     "text": [
      "{0, 1, 2, 3, 4, 5, 6, 7, 11, 13, 15, 18, 20, 22, 27, 28, 32, 33, 35, 36, 37, 38, 39, 40, 42, 43, 45, 46, 48, 53, 54, 55, 56, 57, 59, 60, 63, 64, 65, 67, 71, 74, 75, 76, 77, 79, 80, 81, 82, 84, 86, 87, 88, 89, 90, 92, 96, 98}\n",
      "\n",
      "Hay 58 elementos en la lista sample_list_1\n",
      "False\n"
     ]
    }
   ],
   "source": [
    "# Your code here\n",
    "set2=set(sample_list_2)\n",
    "print(set2)\n",
    "print(\"\\nHay %d elementos en la lista sample_list_1\" % len(set2))\n",
    "print(len(sample_list_2)==len(set2))"
   ]
  },
  {
   "cell_type": "markdown",
   "metadata": {},
   "source": [
    "#### Identify the elements present in `set1` but not in `set2`. Assign the elements to a new set named `set3`."
   ]
  },
  {
   "cell_type": "code",
   "execution_count": 30,
   "metadata": {},
   "outputs": [
    {
     "name": "stdout",
     "output_type": "stream",
     "text": [
      "{8, 9, 10, 12, 16, 17, 19, 21, 23, 24, 25, 29, 31, 34, 41, 44, 47, 49, 51, 52, 62, 66, 68, 69, 70, 72, 78, 83, 85, 93, 94, 95, 97, 99}\n"
     ]
    }
   ],
   "source": [
    "# Your code here\n",
    "set3=set1-set2\n",
    "print(set3)        "
   ]
  },
  {
   "cell_type": "markdown",
   "metadata": {},
   "source": [
    "#### Identify the elements present in `set2` but not in `set1`. Assign the elements to a new set named `set4`."
   ]
  },
  {
   "cell_type": "code",
   "execution_count": 31,
   "metadata": {},
   "outputs": [
    {
     "name": "stdout",
     "output_type": "stream",
     "text": [
      "{64, 33, 65, 3, 7, 59, 48, 81, 84, 86, 55, 27}\n"
     ]
    }
   ],
   "source": [
    "# Your code here\n",
    "set4=set2-set1\n",
    "print(set4)  "
   ]
  },
  {
   "cell_type": "markdown",
   "metadata": {},
   "source": [
    "#### Now Identify the elements shared between `set1` and `set2`. Assign the elements to a new set named `set5`."
   ]
  },
  {
   "cell_type": "code",
   "execution_count": 32,
   "metadata": {},
   "outputs": [
    {
     "name": "stdout",
     "output_type": "stream",
     "text": [
      "{0, 1, 2, 4, 5, 6, 11, 13, 15, 18, 20, 22, 28, 32, 35, 36, 37, 38, 39, 40, 42, 43, 45, 46, 53, 54, 56, 57, 60, 63, 67, 71, 74, 75, 76, 77, 79, 80, 82, 87, 88, 89, 90, 92, 96, 98}\n"
     ]
    }
   ],
   "source": [
    "# Your code here\n",
    "set5=set1.intersection(set2)\n",
    "print(set5)"
   ]
  },
  {
   "cell_type": "markdown",
   "metadata": {},
   "source": [
    "#### What is the relationship among the following values:\n",
    "\n",
    "* len(set1)\n",
    "* len(set2)\n",
    "* len(set3)\n",
    "* len(set4)\n",
    "* len(set5)\n",
    "\n",
    "Use a math formular to represent that relationship. Test your formular with Python code."
   ]
  },
  {
   "cell_type": "code",
   "execution_count": 178,
   "metadata": {},
   "outputs": [
    {
     "name": "stdout",
     "output_type": "stream",
     "text": [
      "[80, 58, 34, 12, 46]\n",
      "len(set1) >\n",
      "len(set2) >\n",
      "len(set3) >\n",
      "len(set5) > len(set4)\n"
     ]
    }
   ],
   "source": [
    "# Your code here\n",
    "a=len(set1)\n",
    "b=len(set2)\n",
    "c=len(set3)\n",
    "d=len(set4)\n",
    "e=len(set5)\n",
    "leng=[a,b,c,d,e]\n",
    "print(leng)\n",
    "if a > b and a > c and a > d and a > e:\n",
    "    print(\"len(set1) >\")\n",
    "    if b > c and b > d and b > d:\n",
    "        print(\"len(set2) >\")\n",
    "        if c > d or c > e:\n",
    "            print(\"len(set3) >\")\n",
    "            if d > e:\n",
    "                print(\"len(set4) > len(set5)\")\n",
    "            else:\n",
    "                print(\"len(set5) > len(set4)\")\n",
    "        \n",
    "      "
   ]
  },
  {
   "cell_type": "markdown",
   "metadata": {},
   "source": [
    "#### Create an empty set called `set6`."
   ]
  },
  {
   "cell_type": "code",
   "execution_count": null,
   "metadata": {},
   "outputs": [],
   "source": [
    "# Your code here\n",
    "set6={}"
   ]
  },
  {
   "cell_type": "markdown",
   "metadata": {},
   "source": [
    "#### Add `set3` and `set5` to `set6` using the Python Set `update` method."
   ]
  },
  {
   "cell_type": "code",
   "execution_count": 156,
   "metadata": {},
   "outputs": [
    {
     "name": "stdout",
     "output_type": "stream",
     "text": [
      "Len set3:  34\n",
      "Len set5:  46\n",
      "\n",
      "set6 es: \n",
      " {0: 8, 1: 9, 2: 10, 3: 12, 4: 16, 5: 17, 6: 19, 7: 21, 8: 23, 9: 24, 10: 25, 11: 29, 12: 31, 13: 34, 14: 41, 15: 44, 16: 47, 17: 49, 18: 51, 19: 52, 20: 62, 21: 66, 22: 68, 23: 69, 24: 70, 25: 72, 26: 78, 27: 83, 28: 85, 29: 93, 30: 94, 31: 95, 32: 97, 33: 99, 34: 0, 35: 1, 36: 2, 37: 4, 38: 5, 39: 6, 40: 11, 41: 13, 42: 15, 43: 18, 44: 20, 45: 22, 46: 28, 47: 32, 48: 35, 49: 36, 50: 37, 51: 38, 52: 39, 53: 40, 54: 42, 55: 43, 56: 45, 57: 46, 58: 53, 59: 54, 60: 56, 61: 57, 62: 60, 63: 63, 64: 67, 65: 71, 66: 74, 67: 75, 68: 76, 69: 77, 70: 79, 71: 80, 72: 82, 73: 87, 74: 88, 75: 89, 76: 90, 77: 92, 78: 96, 79: 98}\n",
      "\n",
      "Len set6:  80\n"
     ]
    }
   ],
   "source": [
    "# Your code here\n",
    "s3 = list(set3)\n",
    "s5 = list(set5)\n",
    "setes = s3+s5\n",
    "s6=enumerate(setes)\n",
    "set6.update(s6)\n",
    "print(\"Len set3: \", len(set3))\n",
    "print(\"Len set5: \", len(set5))\n",
    "print(\"\\nset6 es: \\n\",set6)    \n",
    "print(\"\\nLen set6: \", len(set6))\n"
   ]
  },
  {
   "cell_type": "markdown",
   "metadata": {},
   "source": [
    "#### Check if `set1` and `set6` are equal."
   ]
  },
  {
   "cell_type": "code",
   "execution_count": 120,
   "metadata": {},
   "outputs": [
    {
     "name": "stdout",
     "output_type": "stream",
     "text": [
      "set1 es igual a set6?\n",
      "\n",
      "True\n"
     ]
    }
   ],
   "source": [
    "# Your code here\n",
    "print(\"set1 es igual a set6?\\n\")\n",
    "print(len(set1) == len(set6))"
   ]
  },
  {
   "cell_type": "markdown",
   "metadata": {},
   "source": [
    "#### Check if `set1` contains `set2` using the Python Set `issubset` method. Then check if `set1` contains `set3`.*"
   ]
  },
  {
   "cell_type": "code",
   "execution_count": 122,
   "metadata": {},
   "outputs": [
    {
     "name": "stdout",
     "output_type": "stream",
     "text": [
      "set 2 esta dentro de set1?\n",
      "False\n",
      "set 3 esta dentro de set1?\n",
      "True\n"
     ]
    }
   ],
   "source": [
    "# Your code here\n",
    "print(\"set 2 esta dentro de set1?\")\n",
    "print(set2.issubset(set1))\n",
    "print(\"set 3 esta dentro de set1?\")\n",
    "print(set3.issubset(set1))"
   ]
  },
  {
   "cell_type": "markdown",
   "metadata": {},
   "source": [
    "#### Using the Python Set `union` method, aggregate `set3`, `set4`, and `set5`. Then aggregate `set1` and `set2`. \n",
    "\n",
    "#### Check if the aggregated values are equal."
   ]
  },
  {
   "cell_type": "code",
   "execution_count": 136,
   "metadata": {},
   "outputs": [
    {
     "name": "stdout",
     "output_type": "stream",
     "text": [
      "La union de los cinco sets es:\n",
      "\n",
      " {0, 1, 2, 3, 4, 5, 6, 7, 8, 9, 10, 11, 12, 13, 15, 16, 17, 18, 19, 20, 21, 22, 23, 24, 25, 27, 28, 29, 31, 32, 33, 34, 35, 36, 37, 38, 39, 40, 41, 42, 43, 44, 45, 46, 47, 48, 49, 51, 52, 53, 54, 55, 56, 57, 59, 60, 62, 63, 64, 65, 66, 67, 68, 69, 70, 71, 72, 74, 75, 76, 77, 78, 79, 80, 81, 82, 83, 84, 85, 86, 87, 88, 89, 90, 92, 93, 94, 95, 96, 97, 98, 99}\n",
      "\n",
      "La union de set3, set4 y set5 es: \n",
      " {0, 1, 2, 3, 4, 5, 6, 7, 8, 9, 10, 11, 12, 13, 15, 16, 17, 18, 19, 20, 21, 22, 23, 24, 25, 27, 28, 29, 31, 32, 33, 34, 35, 36, 37, 38, 39, 40, 41, 42, 43, 44, 45, 46, 47, 48, 49, 51, 52, 53, 54, 55, 56, 57, 59, 60, 62, 63, 64, 65, 66, 67, 68, 69, 70, 71, 72, 74, 75, 76, 77, 78, 79, 80, 81, 82, 83, 84, 85, 86, 87, 88, 89, 90, 92, 93, 94, 95, 96, 97, 98, 99}\n",
      "\n",
      "La union de set3, set4, set5, set1 y set2 es: \n",
      " {0, 1, 2, 3, 4, 5, 6, 7, 8, 9, 10, 11, 12, 13, 15, 16, 17, 18, 19, 20, 21, 22, 23, 24, 25, 27, 28, 29, 31, 32, 33, 34, 35, 36, 37, 38, 39, 40, 41, 42, 43, 44, 45, 46, 47, 48, 49, 51, 52, 53, 54, 55, 56, 57, 59, 60, 62, 63, 64, 65, 66, 67, 68, 69, 70, 71, 72, 74, 75, 76, 77, 78, 79, 80, 81, 82, 83, 84, 85, 86, 87, 88, 89, 90, 92, 93, 94, 95, 96, 97, 98, 99}\n",
      "\n",
      "List comprehension funciona!\n"
     ]
    }
   ],
   "source": [
    "# Your code here\n",
    "#Con list comprehension\n",
    "print(\"La union de los cinco sets es:\")\n",
    "set1a5=set3.union(set4.union(set5.union(set1.union(set2))))\n",
    "print(\"\\n\",set1a5)\n",
    "#Sin list comprehension\n",
    "s34=set3.union(set4)\n",
    "s345=s34.union(set5)\n",
    "print(\"\\nLa union de set3, set4 y set5 es: \\n\" , s345)\n",
    "s3451=s345.union(set1)\n",
    "s34512=s3451.union(set2)\n",
    "print(\"\\nLa union de set3, set4, set5, set1 y set2 es: \\n\" , s34512)\n",
    "if len(set1a5) == len(s34512):\n",
    "    print(\"\\nList comprehension funciona!\")\n"
   ]
  },
  {
   "cell_type": "markdown",
   "metadata": {},
   "source": [
    "#### Using the `pop` method, remove the first element from `set1`."
   ]
  },
  {
   "cell_type": "code",
   "execution_count": 175,
   "metadata": {},
   "outputs": [
    {
     "name": "stdout",
     "output_type": "stream",
     "text": [
      "[0, 1, 2, 4, 5, 6, 8, 9, 10, 11, 12, 13, 15, 16, 17, 18, 19, 20, 21, 22, 23, 24, 25, 28, 29, 31, 32, 34, 35, 36, 37, 38, 39, 40, 41, 42, 43, 44, 45, 46, 47, 49, 51, 52, 53, 54, 56, 57, 60, 62, 63, 66, 67, 68, 69, 70, 71, 72, 74, 75, 76, 77, 78, 79, 80, 82, 83, 85, 87, 88, 89, 90, 92, 93, 94, 95, 96, 97, 98, 99]\n",
      "\n",
      "lista de set1 con el primer elemento eliminado\n",
      "\n",
      "[1, 2, 4, 5, 6, 8, 9, 10, 11, 12, 13, 15, 16, 17, 18, 19, 20, 21, 22, 23, 24, 25, 28, 29, 31, 32, 34, 35, 36, 37, 38, 39, 40, 41, 42, 43, 44, 45, 46, 47, 49, 51, 52, 53, 54, 56, 57, 60, 62, 63, 66, 67, 68, 69, 70, 71, 72, 74, 75, 76, 77, 78, 79, 80, 82, 83, 85, 87, 88, 89, 90, 92, 93, 94, 95, 96, 97, 98, 99]\n"
     ]
    }
   ],
   "source": [
    "# Your code here\n",
    "s1=list(set1)\n",
    "print(s1)\n",
    "s1.pop(0)\n",
    "\n",
    "print(\"\\nlista de set1 con el primer elemento eliminado\\n\")\n",
    "print(s1)"
   ]
  },
  {
   "cell_type": "markdown",
   "metadata": {},
   "source": [
    "#### Remove every element in the following list from `set1` if they are present in the set. Print the remaining elements.\n",
    "\n",
    "```\n",
    "list_to_remove = [1, 9, 11, 19, 21, 29, 31, 39, 41, 49, 51, 59, 61, 69, 71, 79, 81, 89, 91, 99]\n",
    "```"
   ]
  },
  {
   "cell_type": "code",
   "execution_count": 165,
   "metadata": {},
   "outputs": [
    {
     "name": "stdout",
     "output_type": "stream",
     "text": [
      "set1 es: \n",
      " {0, 1, 2, 4, 5, 6, 8, 9, 10, 11, 12, 13, 15, 16, 17, 18, 19, 20, 21, 22, 23, 24, 25, 28, 29, 31, 32, 34, 35, 36, 37, 38, 39, 40, 41, 42, 43, 44, 45, 46, 47, 49, 51, 52, 53, 54, 56, 57, 60, 62, 63, 66, 67, 68, 69, 70, 71, 72, 74, 75, 76, 77, 78, 79, 80, 82, 83, 85, 87, 88, 89, 90, 92, 93, 94, 95, 96, 97, 98, 99}\n",
      "\n",
      "La nueva lista de set1 es: \n",
      " [0, 2, 4, 5, 6, 8, 10, 12, 13, 15, 16, 17, 18, 20, 22, 23, 24, 25, 28, 31, 32, 34, 35, 36, 37, 38, 40, 42, 43, 44, 45, 46, 47, 51, 52, 53, 54, 56, 57, 60, 62, 63, 66, 67, 68, 70, 72, 74, 75, 76, 77, 78, 80, 82, 83, 85, 87, 88, 90, 92, 93, 94, 95, 96, 97, 98]\n"
     ]
    }
   ],
   "source": [
    "# Your code here\n",
    "list_to_remove = [1, 9, 11, 19, 21, 29, 31, 39, 41, 49, 51, 59, 61, 69, 71, 79, 81, 89, 91, 99]\n",
    "s1 = list(set1)\n",
    "for e in s1:\n",
    "    if e in list_to_remove:\n",
    "        s1.remove(e)\n",
    "print(\"set1 es: \\n\" , set1) \n",
    "print(\"\\nLa nueva lista de set1 es: \\n\" , s1)        "
   ]
  },
  {
   "cell_type": "code",
   "execution_count": null,
   "metadata": {},
   "outputs": [],
   "source": []
  }
 ],
 "metadata": {
  "kernelspec": {
   "display_name": "Python 3",
   "language": "python",
   "name": "python3"
  },
  "language_info": {
   "codemirror_mode": {
    "name": "ipython",
    "version": 3
   },
   "file_extension": ".py",
   "mimetype": "text/x-python",
   "name": "python",
   "nbconvert_exporter": "python",
   "pygments_lexer": "ipython3",
   "version": "3.7.3"
  }
 },
 "nbformat": 4,
 "nbformat_minor": 2
}
