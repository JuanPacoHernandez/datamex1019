{
 "cells": [
  {
   "cell_type": "code",
   "execution_count": 1,
   "metadata": {},
   "outputs": [
    {
     "name": "stderr",
     "output_type": "stream",
     "text": [
      "/usr/lib/python3/dist-packages/requests/__init__.py:80: RequestsDependencyWarning: urllib3 (1.25.6) or chardet (3.0.4) doesn't match a supported version!\n",
      "  RequestsDependencyWarning)\n"
     ]
    }
   ],
   "source": [
    "import pandas as pd\n",
    "import re\n",
    "import json\n",
    "import requests\n",
    "import numpy as np\n",
    "from IPython.display import HTML, display_html, display\n",
    "from bs4 import BeautifulSoup as bs"
   ]
  },
  {
   "cell_type": "code",
   "execution_count": 2,
   "metadata": {},
   "outputs": [
    {
     "data": {
      "text/html": [
       "<div>\n",
       "<style scoped>\n",
       "    .dataframe tbody tr th:only-of-type {\n",
       "        vertical-align: middle;\n",
       "    }\n",
       "\n",
       "    .dataframe tbody tr th {\n",
       "        vertical-align: top;\n",
       "    }\n",
       "\n",
       "    .dataframe thead th {\n",
       "        text-align: right;\n",
       "    }\n",
       "</style>\n",
       "<table border=\"1\" class=\"dataframe\">\n",
       "  <thead>\n",
       "    <tr style=\"text-align: right;\">\n",
       "      <th></th>\n",
       "      <th>timestep</th>\n",
       "      <th>UES_Northwest</th>\n",
       "      <th>UES_Siberia</th>\n",
       "      <th>UES_Middle_Volga</th>\n",
       "      <th>UES_Urals</th>\n",
       "      <th>UES_Center</th>\n",
       "      <th>UES_South</th>\n",
       "    </tr>\n",
       "  </thead>\n",
       "  <tbody>\n",
       "    <tr>\n",
       "      <th>0</th>\n",
       "      <td>2017-01-01 00:00</td>\n",
       "      <td>964.67</td>\n",
       "      <td>1006.27</td>\n",
       "      <td>1032.80</td>\n",
       "      <td>953.23</td>\n",
       "      <td>1050.17</td>\n",
       "      <td>1706.30</td>\n",
       "    </tr>\n",
       "    <tr>\n",
       "      <th>1</th>\n",
       "      <td>2017-01-01 01:00</td>\n",
       "      <td>984.79</td>\n",
       "      <td>1003.79</td>\n",
       "      <td>1033.34</td>\n",
       "      <td>946.79</td>\n",
       "      <td>1051.15</td>\n",
       "      <td>1592.17</td>\n",
       "    </tr>\n",
       "    <tr>\n",
       "      <th>2</th>\n",
       "      <td>2017-01-01 02:00</td>\n",
       "      <td>962.54</td>\n",
       "      <td>1005.09</td>\n",
       "      <td>1029.51</td>\n",
       "      <td>944.35</td>\n",
       "      <td>1039.84</td>\n",
       "      <td>1561.85</td>\n",
       "    </tr>\n",
       "    <tr>\n",
       "      <th>3</th>\n",
       "      <td>2017-01-01 03:00</td>\n",
       "      <td>888.44</td>\n",
       "      <td>1002.38</td>\n",
       "      <td>976.34</td>\n",
       "      <td>906.15</td>\n",
       "      <td>977.04</td>\n",
       "      <td>1534.37</td>\n",
       "    </tr>\n",
       "    <tr>\n",
       "      <th>4</th>\n",
       "      <td>2017-01-01 04:00</td>\n",
       "      <td>847.10</td>\n",
       "      <td>1002.58</td>\n",
       "      <td>945.28</td>\n",
       "      <td>894.08</td>\n",
       "      <td>938.27</td>\n",
       "      <td>1517.58</td>\n",
       "    </tr>\n",
       "  </tbody>\n",
       "</table>\n",
       "</div>"
      ],
      "text/plain": [
       "           timestep  UES_Northwest  UES_Siberia  UES_Middle_Volga  UES_Urals  \\\n",
       "0  2017-01-01 00:00         964.67      1006.27           1032.80     953.23   \n",
       "1  2017-01-01 01:00         984.79      1003.79           1033.34     946.79   \n",
       "2  2017-01-01 02:00         962.54      1005.09           1029.51     944.35   \n",
       "3  2017-01-01 03:00         888.44      1002.38            976.34     906.15   \n",
       "4  2017-01-01 04:00         847.10      1002.58            945.28     894.08   \n",
       "\n",
       "   UES_Center  UES_South  \n",
       "0     1050.17    1706.30  \n",
       "1     1051.15    1592.17  \n",
       "2     1039.84    1561.85  \n",
       "3      977.04    1534.37  \n",
       "4      938.27    1517.58  "
      ]
     },
     "execution_count": 2,
     "metadata": {},
     "output_type": "execute_result"
    }
   ],
   "source": [
    "#DataSet sucio, descargado de Kaggle 'https://www.kaggle.com/irinachuchueva/russian-wholesale-electricity-market'\n",
    "rawdataset=pd.read_csv('RU_Electricity_Market_UES_dayahead_price.csv',encoding=\"latin1\")\n",
    "rawdataset.head()"
   ]
  },
  {
   "cell_type": "code",
   "execution_count": 3,
   "metadata": {},
   "outputs": [],
   "source": [
    "#DataFrame limpio, separo la hora de los dias y agrego una columna que indica el año del dato\n",
    "Russiaraw=rawdataset.copy()\n",
    "Russiaraw['DateTime']=Russiaraw.timestep.str.split(\" \")\n",
    "Russia=Russiaraw.assign(Date=Russiaraw.DateTime.str[0],Time=Russiaraw.DateTime.str[1])\n",
    "Russia=Russia[['Date','Time','UES_Northwest','UES_Siberia','UES_Middle_Volga','UES_Urals','UES_Center','UES_South']]\n",
    "Russia['Year']=Russia.Date.str.split(\"-\")\n",
    "Russia['Year']=Russia.Year.str[0]\n",
    "#Obtengo las regiones de Rusia\n",
    "Ruregions=[]\n",
    "for e in Russia.columns:\n",
    "    if e.startswith('UES'):\n",
    "        Ruregions.append(e)"
   ]
  },
  {
   "cell_type": "code",
   "execution_count": 4,
   "metadata": {},
   "outputs": [
    {
     "data": {
      "text/plain": [
       "<Response [200]>"
      ]
     },
     "execution_count": 4,
     "metadata": {},
     "output_type": "execute_result"
    }
   ],
   "source": [
    "#Datos de la API, 'https://www.eia.gov/opendata/qb.php?category=2134404&sdid=INTL.2-2-MEX-BKWH.A'\n",
    "with open('API_EIA_key.txt', 'r') as f:\n",
    "    acceso=f.readlines()[0].split('\\n')\n",
    "key=acceso[0]\n",
    "#Agrego una key que me proporciono el sitio y que esta un archivo indicado en el .gitignore\n",
    "url='http://api.eia.gov/series/?api_key='+key+'&series_id=INTL.2-2-MEX-BKWH.A'\n",
    "res=requests.get(url)\n",
    "res"
   ]
  },
  {
   "cell_type": "code",
   "execution_count": 5,
   "metadata": {},
   "outputs": [],
   "source": [
    "#Del API solo obtengo los datos por año de el consumo promedio de electricidad en México\n",
    "results=res.json()\n",
    "rawAPI1=results['series'][0]['data']"
   ]
  },
  {
   "cell_type": "code",
   "execution_count": 6,
   "metadata": {},
   "outputs": [],
   "source": [
    "#Tomare datos de la lista del elemento 1 al 7\n",
    "Mexico_per_year=[]\n",
    "for e in range(1,8):\n",
    "    Mexico_per_year.append(rawAPI1[e][1])\n",
    "#Los enlisto en forma inversa a como vienen del dataset    \n",
    "Mexico_per_year.reverse()"
   ]
  },
  {
   "cell_type": "code",
   "execution_count": 7,
   "metadata": {},
   "outputs": [],
   "source": [
    "#Calcule con ecuacion de la recta con datos de la API de México\n",
    "def mx_mean_calc(x):\n",
    "    m=(float(rawAPI1[1][1])-float(rawAPI1[2][1]))/(int(rawAPI1[1][0])-int(rawAPI1[2][0]))\n",
    "    b=(float(rawAPI1[1][1]))-m*(int(rawAPI1[1][0]))\n",
    "    return m*x+b"
   ]
  },
  {
   "cell_type": "code",
   "execution_count": 8,
   "metadata": {},
   "outputs": [],
   "source": [
    "#Calcule los tres ultimos años que faltan al dataset para México\n",
    "Mexico_per_year.append(round(mx_mean_calc(2017),5))\n",
    "Mexico_per_year.append(round(mx_mean_calc(2018),5))\n",
    "Mexico_per_year.append(round(mx_mean_calc(2019),5))\n",
    "#Lista de los años que deseo en el DF\n",
    "Mexico_years=[]\n",
    "for e in range(2010,2020):\n",
    "    Mexico_years.append(e)"
   ]
  },
  {
   "cell_type": "code",
   "execution_count": 9,
   "metadata": {},
   "outputs": [],
   "source": [
    "#DataFrame de México del año 2010 al 2019\n",
    "Mexico_per_year_mean=pd.DataFrame(list(zip(Mexico_years,Mexico_per_year)),columns =['Year','Mexico']) "
   ]
  },
  {
   "cell_type": "code",
   "execution_count": 10,
   "metadata": {},
   "outputs": [],
   "source": [
    "#Calcule con ecuacion de la recta con datos del Dataset del 2017 y 2018 para Rusia\n",
    "def ru_mean_calc(x):\n",
    "    m=(ru_mean(2018)-ru_mean(2017))/(2018-2017)\n",
    "    b=ru_mean(2018)-m*2018\n",
    "    return m*x+b"
   ]
  },
  {
   "cell_type": "code",
   "execution_count": 11,
   "metadata": {},
   "outputs": [],
   "source": [
    "#Solo existen datos de Rusia del 2017 al 2019, funcion que calcula el consumo promedio de toda Rusia, determinado año\n",
    "def ru_mean(year):\n",
    "    m1=Russia[Russia['Year']==str(year)].UES_Northwest.mean()\n",
    "    m2=Russia[Russia['Year']==str(year)].UES_Siberia.mean()\n",
    "    m3=Russia[Russia['Year']==str(year)].UES_Middle_Volga.mean()\n",
    "    m4=Russia[Russia['Year']==str(year)].UES_Urals.mean()\n",
    "    m5=Russia[Russia['Year']==str(year)].UES_Center.mean()\n",
    "    m6=Russia[Russia['Year']==str(year)].UES_South.mean()\n",
    "    return (m1+m2+m3+m4+m5+m6)/len(Ruregions)"
   ]
  },
  {
   "cell_type": "code",
   "execution_count": 12,
   "metadata": {},
   "outputs": [],
   "source": [
    "#Calcule 2010 a 2016 con ecuacion de la recta, puesto que no viene en el dataset, y agrego a una lista\n",
    "Russia_per_year=[]\n",
    "for e in range(2010,2017):\n",
    "    Russia_per_year.append(ru_mean_calc(e))\n",
    "#Calcule 2017 y 2018 de acuerdo al data set que descargue y agrego a una lista\n",
    "Russia_per_year.append(ru_mean(2017))\n",
    "Russia_per_year.append(ru_mean(2018))\n",
    "#Calculamos 2019 con ecuacion de la recta y agrego a una lista\n",
    "Russia_per_year.append(ru_mean_calc(2019))\n",
    "#Lista de los años que deseo en el DF\n",
    "Russia_years=[]\n",
    "for e in range(2010,2020):\n",
    "    Russia_years.append(e)\n",
    "#DataFrame de Rusia del año 2010 al 2019\n",
    "Ru={'Year':Russia_years,'Russia':Russia_per_year}\n",
    "Russia_per_year_mean=pd.DataFrame(Ru)"
   ]
  },
  {
   "cell_type": "code",
   "execution_count": 13,
   "metadata": {},
   "outputs": [],
   "source": [
    "#Mezclo los dos dataframes, el de Mexico (de la API) y de Rusia (del DataSet)\n",
    "dftwo=pd.merge(Mexico_per_year_mean,Russia_per_year_mean, on=['Year','Year'])"
   ]
  },
  {
   "cell_type": "code",
   "execution_count": 14,
   "metadata": {},
   "outputs": [
    {
     "data": {
      "text/plain": [
       "<Response [200]>"
      ]
     },
     "execution_count": 14,
     "metadata": {},
     "output_type": "execute_result"
    }
   ],
   "source": [
    "#Datos de la API, 'https://www.eia.gov/opendata/qb.php?category=2134404&sdid=INTL.2-2-JPN-BKWH.A'\n",
    "with open('API_EIA_key.txt', 'r') as f:\n",
    "    acceso=f.readlines()[0].split('\\n')\n",
    "key=acceso[0]\n",
    "#Agrego una key que me proporciono el sitio y que esta un archivo indicado en el .gitignore\n",
    "url='http://api.eia.gov/series/?api_key='+key+'&series_id=INTL.2-2-JPN-BKWH.A'\n",
    "res=requests.get(url)\n",
    "res"
   ]
  },
  {
   "cell_type": "code",
   "execution_count": 15,
   "metadata": {},
   "outputs": [],
   "source": [
    "#Del API solo obtengo los datos por año de el consumo promedio de electricidad en Japon\n",
    "#El 27 de febrero de 2010 en Japón, un terremoto de magnitud 7,3 en la escala de Richter a las 5:30 (hora local) esto \n",
    "#afecto el consumo de electricidad a nivel país\n",
    "results=res.json()\n",
    "rawAPI2=results['series'][0]['data']\n",
    "#rawAPI2 tiene 37 elementos, de los cuales calcularemos la ecuacion de la recta por regresion lineal"
   ]
  },
  {
   "cell_type": "code",
   "execution_count": 16,
   "metadata": {},
   "outputs": [],
   "source": [
    "#Hago dos listas de la electriciad consumida en Japon (jpelec) y de los años (jpyear)\n",
    "jpelec=[]\n",
    "for e in range(1,5):\n",
    "    jpelec.append(rawAPI2[e][1])\n",
    "jpyear=[]\n",
    "for e in range(1,5):\n",
    "    jpyear.append(rawAPI2[e][0])\n",
    "jpelec.reverse()    \n",
    "jpyear.reverse()"
   ]
  },
  {
   "cell_type": "code",
   "execution_count": 17,
   "metadata": {},
   "outputs": [],
   "source": [
    "#Calcule con regresion lineal la ecuacion de la recta con datos de la API de Japón\n",
    "def jp_mean_calc(x,y): \n",
    "    n=np.size(x) \n",
    "    mx,my=np.mean(x),np.mean(y) \n",
    "    SSxy=np.sum(y*x)-n*my*mx \n",
    "    SSxx=np.sum(x*x)-n*mx*mx \n",
    "    m=SSxy/SSxx \n",
    "    b=my-m*mx \n",
    "    return(m,b) \n",
    "#De la API hice dos listas, años y consumo, esas dos las convierto en un arreglo de numpy\n",
    "x=np.array([int(e) for e in jpyear])\n",
    "y=np.array([float(f) for f in jpelec])\n",
    "#b es un tupla con la pendiente y la ordenada al origen de la recta calculadas de la regresion lineal\n",
    "b=jp_mean_calc(x,y)"
   ]
  },
  {
   "cell_type": "code",
   "execution_count": 18,
   "metadata": {},
   "outputs": [],
   "source": [
    "#Calcule los tres ultimos años que faltan al dataset para Japón con la pendiente y la ordenada al origen\n",
    "Japan_per_year=[]\n",
    "for e in range(1,8):\n",
    "    Japan_per_year.append(rawAPI2[e][1])\n",
    "Japan_per_year.reverse()    \n",
    "Japan_per_year.append(round(b[0]*2017+b[1],5))\n",
    "Japan_per_year.append(round(b[0]*2018+b[1],5))\n",
    "Japan_per_year.append(round(b[0]*2019+b[1],5))\n",
    "#Lista de los años que deseo en el DF\n",
    "Japan_years=[]\n",
    "#Tenemos 37 elementos en la lista de años\n",
    "for e in range(1,8):\n",
    "    Japan_years.append(rawAPI2[e][0])\n",
    "Japan_years.reverse()    \n",
    "Japan_years.append('2017')    \n",
    "Japan_years.append('2018')    \n",
    "Japan_years.append('2019')  \n",
    "Japan_years=[int(e) for e in Japan_years]"
   ]
  },
  {
   "cell_type": "code",
   "execution_count": 19,
   "metadata": {},
   "outputs": [],
   "source": [
    "#DataFrame de Japón del año 2010 al 2019\n",
    "Japan_per_year_mean=pd.DataFrame(list(zip(Japan_years,Japan_per_year)),columns =['Year','Japan']) "
   ]
  },
  {
   "cell_type": "code",
   "execution_count": 20,
   "metadata": {},
   "outputs": [],
   "source": [
    "#Mezclo los tres dataframes, el de Mexico, el de Japón (de las API) y de Rusia (del DataSet)\n",
    "dfthree=pd.merge(dftwo,Japan_per_year_mean, on=['Year','Year'])"
   ]
  },
  {
   "cell_type": "code",
   "execution_count": 21,
   "metadata": {},
   "outputs": [],
   "source": [
    "urlmx='https://datosmacro.expansion.com/demografia/poblacion/mexico'\n",
    "html=requests.get(urlmx).content\n",
    "soup=bs(html, 'html.parser')\n",
    "#Años MX\n",
    "cont=soup.find_all('td',{'class':'fecha'})\n",
    "añomx=[]\n",
    "for e in range(0,9):\n",
    "    añomx.append(cont[e].string)\n",
    "añomx.reverse()\n",
    "añomx=[int(f) for f in añomx]\n",
    "#Poblacion MX\n",
    "cont1=soup.find_all('td',{'class':'numero'})\n",
    "pobmx=[]\n",
    "for e in range(3,39,4):\n",
    "    pobmx.append(cont1[e]['data-value'])\n",
    "pobmx.reverse()\n",
    "pobmx=[int(e)/1e6 for e in pobmx]"
   ]
  },
  {
   "cell_type": "code",
   "execution_count": 22,
   "metadata": {},
   "outputs": [],
   "source": [
    "#DataFrame de la poblacion en Mexico del año 2010 al 2019\n",
    "Mexico_population_per_year=pd.DataFrame(list(zip(añomx,pobmx)),columns =['Year','MX population [Millions]']) "
   ]
  },
  {
   "cell_type": "code",
   "execution_count": 23,
   "metadata": {},
   "outputs": [
    {
     "data": {
      "text/html": [
       "<h2>Consumo de electricidad promedio por año (billones de kWh) y Población Mexicana</h2>"
      ],
      "text/plain": [
       "<IPython.core.display.HTML object>"
      ]
     },
     "metadata": {},
     "output_type": "display_data"
    },
    {
     "data": {
      "text/html": [
       "<div>\n",
       "<style scoped>\n",
       "    .dataframe tbody tr th:only-of-type {\n",
       "        vertical-align: middle;\n",
       "    }\n",
       "\n",
       "    .dataframe tbody tr th {\n",
       "        vertical-align: top;\n",
       "    }\n",
       "\n",
       "    .dataframe thead th {\n",
       "        text-align: right;\n",
       "    }\n",
       "</style>\n",
       "<table border=\"1\" class=\"dataframe\">\n",
       "  <thead>\n",
       "    <tr style=\"text-align: right;\">\n",
       "      <th></th>\n",
       "      <th>Year</th>\n",
       "      <th>Mexico</th>\n",
       "      <th>Russia</th>\n",
       "      <th>Japan</th>\n",
       "      <th>MX population [Millions]</th>\n",
       "    </tr>\n",
       "  </thead>\n",
       "  <tbody>\n",
       "    <tr>\n",
       "      <th>0</th>\n",
       "      <td>2010</td>\n",
       "      <td>216.203627</td>\n",
       "      <td>856.338168</td>\n",
       "      <td>1019.98496</td>\n",
       "      <td>114.256</td>\n",
       "    </tr>\n",
       "    <tr>\n",
       "      <th>1</th>\n",
       "      <td>2011</td>\n",
       "      <td>240.301962</td>\n",
       "      <td>898.790326</td>\n",
       "      <td>1012.20742</td>\n",
       "      <td>115.683</td>\n",
       "    </tr>\n",
       "    <tr>\n",
       "      <th>2</th>\n",
       "      <td>2012</td>\n",
       "      <td>246.164140</td>\n",
       "      <td>941.242485</td>\n",
       "      <td>945.86714</td>\n",
       "      <td>117.054</td>\n",
       "    </tr>\n",
       "    <tr>\n",
       "      <th>3</th>\n",
       "      <td>2013</td>\n",
       "      <td>233.195690</td>\n",
       "      <td>983.694643</td>\n",
       "      <td>967.20916</td>\n",
       "      <td>118.395</td>\n",
       "    </tr>\n",
       "    <tr>\n",
       "      <th>4</th>\n",
       "      <td>2014</td>\n",
       "      <td>238.057060</td>\n",
       "      <td>1026.146801</td>\n",
       "      <td>950.56874</td>\n",
       "      <td>119.713</td>\n",
       "    </tr>\n",
       "    <tr>\n",
       "      <th>5</th>\n",
       "      <td>2015</td>\n",
       "      <td>246.842840</td>\n",
       "      <td>1068.598960</td>\n",
       "      <td>943.70264</td>\n",
       "      <td>121.006</td>\n",
       "    </tr>\n",
       "    <tr>\n",
       "      <th>6</th>\n",
       "      <td>2016</td>\n",
       "      <td>258.666440</td>\n",
       "      <td>1111.051118</td>\n",
       "      <td>943.68252</td>\n",
       "      <td>122.273</td>\n",
       "    </tr>\n",
       "    <tr>\n",
       "      <th>7</th>\n",
       "      <td>2017</td>\n",
       "      <td>270.490040</td>\n",
       "      <td>1153.503276</td>\n",
       "      <td>931.92926</td>\n",
       "      <td>123.518</td>\n",
       "    </tr>\n",
       "    <tr>\n",
       "      <th>8</th>\n",
       "      <td>2018</td>\n",
       "      <td>282.313640</td>\n",
       "      <td>1195.955435</td>\n",
       "      <td>924.18466</td>\n",
       "      <td>124.738</td>\n",
       "    </tr>\n",
       "  </tbody>\n",
       "</table>\n",
       "</div>"
      ]
     },
     "metadata": {},
     "output_type": "display_data"
    }
   ],
   "source": [
    "#Mezclo los cuatro dataframes, el de Mexico, el de Japón (de las API) y de Rusia (del DataSet) \n",
    "#y la Poblacion de Mexico (WebScraping)\n",
    "DF=pd.merge(dfthree,Mexico_population_per_year, on=['Year','Year'])\n",
    "display(HTML('<h2>Consumo de electricidad promedio por año (billones de kWh) y Población Mexicana</h2>'))\n",
    "display_html(DF)"
   ]
  }
 ],
 "metadata": {
  "kernelspec": {
   "display_name": "Python 3",
   "language": "python",
   "name": "python3"
  },
  "language_info": {
   "codemirror_mode": {
    "name": "ipython",
    "version": 3
   },
   "file_extension": ".py",
   "mimetype": "text/x-python",
   "name": "python",
   "nbconvert_exporter": "python",
   "pygments_lexer": "ipython3",
   "version": "3.6.8"
  }
 },
 "nbformat": 4,
 "nbformat_minor": 2
}
