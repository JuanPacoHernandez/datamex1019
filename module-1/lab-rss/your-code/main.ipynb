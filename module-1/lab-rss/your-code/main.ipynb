{
 "cells": [
  {
   "cell_type": "markdown",
   "metadata": {},
   "source": [
    "# Working with RSS Feeds Lab\n",
    "\n",
    "Complete the following set of exercises to solidify your knowledge of parsing RSS feeds and extracting information from them."
   ]
  },
  {
   "cell_type": "code",
   "execution_count": 5,
   "metadata": {},
   "outputs": [],
   "source": [
    "import feedparser"
   ]
  },
  {
   "cell_type": "markdown",
   "metadata": {},
   "source": [
    "### 1. Use feedparser to parse the following RSS feed URL."
   ]
  },
  {
   "cell_type": "code",
   "execution_count": 6,
   "metadata": {},
   "outputs": [],
   "source": [
    "url = 'http://feeds.feedburner.com/oreilly/radar/atom'"
   ]
  },
  {
   "cell_type": "code",
   "execution_count": 7,
   "metadata": {},
   "outputs": [],
   "source": [
    "radar=feedparser.parse(url)"
   ]
  },
  {
   "cell_type": "markdown",
   "metadata": {},
   "source": [
    "### 2. Obtain a list of components (keys) that are available for this feed."
   ]
  },
  {
   "cell_type": "code",
   "execution_count": 13,
   "metadata": {},
   "outputs": [
    {
     "data": {
      "text/plain": [
       "dict_keys(['feed', 'entries', 'bozo', 'headers', 'etag', 'updated', 'updated_parsed', 'href', 'status', 'encoding', 'version', 'namespaces'])"
      ]
     },
     "execution_count": 13,
     "metadata": {},
     "output_type": "execute_result"
    }
   ],
   "source": [
    "radar.keys()"
   ]
  },
  {
   "cell_type": "markdown",
   "metadata": {},
   "source": [
    "### 3. Obtain a list of components (keys) that are available for the *feed* component of this RSS feed."
   ]
  },
  {
   "cell_type": "code",
   "execution_count": 17,
   "metadata": {},
   "outputs": [
    {
     "data": {
      "text/plain": [
       "dict_keys(['title', 'title_detail', 'links', 'link', 'subtitle', 'subtitle_detail', 'updated', 'updated_parsed', 'language', 'sy_updateperiod', 'sy_updatefrequency', 'generator_detail', 'generator', 'feedburner_info', 'geo_lat', 'geo_long', 'feedburner_emailserviceid', 'feedburner_feedburnerhostname'])"
      ]
     },
     "execution_count": 17,
     "metadata": {},
     "output_type": "execute_result"
    }
   ],
   "source": [
    "radar.feed.keys()"
   ]
  },
  {
   "cell_type": "markdown",
   "metadata": {},
   "source": [
    "### 4. Extract and print the feed title, subtitle, author, and link."
   ]
  },
  {
   "cell_type": "code",
   "execution_count": 39,
   "metadata": {},
   "outputs": [
    {
     "name": "stdout",
     "output_type": "stream",
     "text": [
      "title: Radar\n",
      "subtitle: Now, next, and beyond: Tracking need-to-know trends at the intersection of business and technology\n",
      "author: Jenn Webb\n",
      "link: https://www.oreilly.com/radar\n"
     ]
    }
   ],
   "source": [
    "print(\"title:\",radar.feed.title)\n",
    "print(\"subtitle:\",radar.feed.subtitle)\n",
    "print(\"author:\",radar.entries[0]['author'])\n",
    "print(\"link:\",radar.feed.link)"
   ]
  },
  {
   "cell_type": "markdown",
   "metadata": {},
   "source": [
    "### 5. Count the number of entries that are contained in this RSS feed."
   ]
  },
  {
   "cell_type": "code",
   "execution_count": 44,
   "metadata": {},
   "outputs": [
    {
     "data": {
      "text/plain": [
       "19"
      ]
     },
     "execution_count": 44,
     "metadata": {},
     "output_type": "execute_result"
    }
   ],
   "source": [
    "len(radar.entries[0].keys())"
   ]
  },
  {
   "cell_type": "markdown",
   "metadata": {},
   "source": [
    "### 6. Obtain a list of components (keys) available for an entry.\n",
    "\n",
    "*Hint: Remember to index first before requesting the keys*"
   ]
  },
  {
   "cell_type": "code",
   "execution_count": 74,
   "metadata": {},
   "outputs": [
    {
     "data": {
      "text/plain": [
       "dict_keys(['title', 'title_detail', 'links', 'link', 'comments', 'published', 'published_parsed', 'authors', 'author', 'author_detail', 'tags', 'id', 'guidislink', 'summary', 'summary_detail', 'content', 'wfw_commentrss', 'slash_comments', 'feedburner_origlink'])"
      ]
     },
     "execution_count": 74,
     "metadata": {},
     "output_type": "execute_result"
    }
   ],
   "source": [
    "radar.entries[0].keys()"
   ]
  },
  {
   "cell_type": "markdown",
   "metadata": {},
   "source": [
    "### 7. Extract a list of entry titles."
   ]
  },
  {
   "cell_type": "code",
   "execution_count": 75,
   "metadata": {},
   "outputs": [
    {
     "name": "stdout",
     "output_type": "stream",
     "text": [
      "['Bitcoin and the disruption of monetary oppression', 'Four short links: 8 November 2019', 'Highlights from the O’Reilly Software Architecture Conference in Berlin 2019', 'Highlights from the O’Reilly Velocity Conference in Berlin 2019', 'From the trenches: Patrick Kua', '5 things Go taught me about open source?', 'Building high-performing engineering teams, one pixel at a time', 'How to deploy infrastructure in just 13.8 billion years', 'Controlled chaos: The inevitable marriage of DevOps and security', 'The ultimate guide to complicated systems', 'Cognitive biases in the architect’s life', 'The three-headed dog: Architecture, process, structure', 'A world of deepfakes', 'Radar trends to watch: November 2019', 'Four short links: 7 November 2019', 'Modern machine learning architectures: Data and hardware and platform, oh my', 'The new norms of cloud native', 'Observability: Understanding production through your customers’ eyes']\n"
     ]
    }
   ],
   "source": [
    "lsttit=[radar.entries[e].title for e in range(len(radar.entries))]\n",
    "print(lsttit)"
   ]
  },
  {
   "cell_type": "markdown",
   "metadata": {},
   "source": [
    "### 8. Calculate the percentage of \"Four short links\" entry titles."
   ]
  },
  {
   "cell_type": "code",
   "execution_count": 81,
   "metadata": {},
   "outputs": [
    {
     "data": {
      "text/plain": [
       "'Four short links: 8 November 2019'"
      ]
     },
     "execution_count": 81,
     "metadata": {},
     "output_type": "execute_result"
    }
   ],
   "source": [
    "radar.entries[1].title"
   ]
  },
  {
   "cell_type": "markdown",
   "metadata": {},
   "source": [
    "### 9. Create a Pandas data frame from the feed's entries."
   ]
  },
  {
   "cell_type": "code",
   "execution_count": 69,
   "metadata": {},
   "outputs": [],
   "source": [
    "import pandas as pd"
   ]
  },
  {
   "cell_type": "code",
   "execution_count": 70,
   "metadata": {},
   "outputs": [
    {
     "data": {
      "text/html": [
       "<div>\n",
       "<style scoped>\n",
       "    .dataframe tbody tr th:only-of-type {\n",
       "        vertical-align: middle;\n",
       "    }\n",
       "\n",
       "    .dataframe tbody tr th {\n",
       "        vertical-align: top;\n",
       "    }\n",
       "\n",
       "    .dataframe thead th {\n",
       "        text-align: right;\n",
       "    }\n",
       "</style>\n",
       "<table border=\"1\" class=\"dataframe\">\n",
       "  <thead>\n",
       "    <tr style=\"text-align: right;\">\n",
       "      <th></th>\n",
       "      <th>title</th>\n",
       "      <th>title_detail</th>\n",
       "      <th>links</th>\n",
       "      <th>link</th>\n",
       "      <th>comments</th>\n",
       "      <th>published</th>\n",
       "      <th>published_parsed</th>\n",
       "      <th>authors</th>\n",
       "      <th>author</th>\n",
       "      <th>author_detail</th>\n",
       "      <th>tags</th>\n",
       "      <th>id</th>\n",
       "      <th>guidislink</th>\n",
       "      <th>summary</th>\n",
       "      <th>summary_detail</th>\n",
       "      <th>content</th>\n",
       "      <th>wfw_commentrss</th>\n",
       "      <th>slash_comments</th>\n",
       "      <th>feedburner_origlink</th>\n",
       "    </tr>\n",
       "  </thead>\n",
       "  <tbody>\n",
       "    <tr>\n",
       "      <th>0</th>\n",
       "      <td>Bitcoin and the disruption of monetary oppression</td>\n",
       "      <td>{'type': 'text/plain', 'language': None, 'base...</td>\n",
       "      <td>[{'rel': 'alternate', 'type': 'text/html', 'hr...</td>\n",
       "      <td>http://feedproxy.google.com/~r/oreilly/radar/a...</td>\n",
       "      <td>https://www.oreilly.com/radar/bitcoin-and-the-...</td>\n",
       "      <td>Fri, 08 Nov 2019 05:10:27 +0000</td>\n",
       "      <td>(2019, 11, 8, 5, 10, 27, 4, 312, 0)</td>\n",
       "      <td>[{'name': 'Jenn Webb'}]</td>\n",
       "      <td>Jenn Webb</td>\n",
       "      <td>{'name': 'Jenn Webb'}</td>\n",
       "      <td>[{'term': 'Innovation &amp; Disruption', 'scheme':...</td>\n",
       "      <td>https://www.oreilly.com/radar/?p=9571</td>\n",
       "      <td>False</td>\n",
       "      <td>In this interview from O&amp;#8217;Reilly Foo Camp...</td>\n",
       "      <td>{'type': 'text/html', 'language': None, 'base'...</td>\n",
       "      <td>[{'type': 'text/html', 'language': None, 'base...</td>\n",
       "      <td>https://www.oreilly.com/radar/bitcoin-and-the-...</td>\n",
       "      <td>0</td>\n",
       "      <td>https://www.oreilly.com/radar/bitcoin-and-the-...</td>\n",
       "    </tr>\n",
       "    <tr>\n",
       "      <th>1</th>\n",
       "      <td>Four short links: 8 November 2019</td>\n",
       "      <td>{'type': 'text/plain', 'language': None, 'base...</td>\n",
       "      <td>[{'rel': 'alternate', 'type': 'text/html', 'hr...</td>\n",
       "      <td>http://feedproxy.google.com/~r/oreilly/radar/a...</td>\n",
       "      <td>https://www.oreilly.com/radar/four-short-links...</td>\n",
       "      <td>Fri, 08 Nov 2019 05:01:04 +0000</td>\n",
       "      <td>(2019, 11, 8, 5, 1, 4, 4, 312, 0)</td>\n",
       "      <td>[{'name': 'Nat Torkington'}]</td>\n",
       "      <td>Nat Torkington</td>\n",
       "      <td>{'name': 'Nat Torkington'}</td>\n",
       "      <td>[{'term': 'Four Short Links', 'scheme': None, ...</td>\n",
       "      <td>https://www.oreilly.com/radar/?p=10775</td>\n",
       "      <td>False</td>\n",
       "      <td>Probabilistic Scripts for Automating Common-Se...</td>\n",
       "      <td>{'type': 'text/html', 'language': None, 'base'...</td>\n",
       "      <td>[{'type': 'text/html', 'language': None, 'base...</td>\n",
       "      <td>https://www.oreilly.com/radar/four-short-links...</td>\n",
       "      <td>0</td>\n",
       "      <td>https://www.oreilly.com/radar/four-short-links...</td>\n",
       "    </tr>\n",
       "    <tr>\n",
       "      <th>2</th>\n",
       "      <td>Highlights from the O’Reilly Software Architec...</td>\n",
       "      <td>{'type': 'text/plain', 'language': None, 'base...</td>\n",
       "      <td>[{'rel': 'alternate', 'type': 'text/html', 'hr...</td>\n",
       "      <td>http://feedproxy.google.com/~r/oreilly/radar/a...</td>\n",
       "      <td>https://www.oreilly.com/radar/highlights-from-...</td>\n",
       "      <td>Thu, 07 Nov 2019 20:10:44 +0000</td>\n",
       "      <td>(2019, 11, 7, 20, 10, 44, 3, 311, 0)</td>\n",
       "      <td>[{'name': 'Mac Slocum'}]</td>\n",
       "      <td>Mac Slocum</td>\n",
       "      <td>{'name': 'Mac Slocum'}</td>\n",
       "      <td>[{'term': 'Next Architecture', 'scheme': None,...</td>\n",
       "      <td>https://www.oreilly.com/radar/?p=10569</td>\n",
       "      <td>False</td>\n",
       "      <td>Experts from across the software architecture ...</td>\n",
       "      <td>{'type': 'text/html', 'language': None, 'base'...</td>\n",
       "      <td>[{'type': 'text/html', 'language': None, 'base...</td>\n",
       "      <td>https://www.oreilly.com/radar/highlights-from-...</td>\n",
       "      <td>0</td>\n",
       "      <td>https://www.oreilly.com/radar/highlights-from-...</td>\n",
       "    </tr>\n",
       "    <tr>\n",
       "      <th>3</th>\n",
       "      <td>Highlights from the O’Reilly Velocity Conferen...</td>\n",
       "      <td>{'type': 'text/plain', 'language': None, 'base...</td>\n",
       "      <td>[{'rel': 'alternate', 'type': 'text/html', 'hr...</td>\n",
       "      <td>http://feedproxy.google.com/~r/oreilly/radar/a...</td>\n",
       "      <td>https://www.oreilly.com/radar/highlights-from-...</td>\n",
       "      <td>Thu, 07 Nov 2019 20:09:07 +0000</td>\n",
       "      <td>(2019, 11, 7, 20, 9, 7, 3, 311, 0)</td>\n",
       "      <td>[{'name': 'Mac Slocum'}]</td>\n",
       "      <td>Mac Slocum</td>\n",
       "      <td>{'name': 'Mac Slocum'}</td>\n",
       "      <td>[{'term': 'Next Architecture', 'scheme': None,...</td>\n",
       "      <td>https://www.oreilly.com/radar/?p=10577</td>\n",
       "      <td>False</td>\n",
       "      <td>People from across the cloud native and distri...</td>\n",
       "      <td>{'type': 'text/html', 'language': None, 'base'...</td>\n",
       "      <td>[{'type': 'text/html', 'language': None, 'base...</td>\n",
       "      <td>https://www.oreilly.com/radar/highlights-from-...</td>\n",
       "      <td>0</td>\n",
       "      <td>https://www.oreilly.com/radar/highlights-from-...</td>\n",
       "    </tr>\n",
       "    <tr>\n",
       "      <th>4</th>\n",
       "      <td>From the trenches: Patrick Kua</td>\n",
       "      <td>{'type': 'text/plain', 'language': None, 'base...</td>\n",
       "      <td>[{'rel': 'alternate', 'type': 'text/html', 'hr...</td>\n",
       "      <td>http://feedproxy.google.com/~r/oreilly/radar/a...</td>\n",
       "      <td>https://www.oreilly.com/radar/from-the-trenche...</td>\n",
       "      <td>Thu, 07 Nov 2019 20:00:48 +0000</td>\n",
       "      <td>(2019, 11, 7, 20, 0, 48, 3, 311, 0)</td>\n",
       "      <td>[{'name': 'Patrick Kua and Neal Ford'}]</td>\n",
       "      <td>Patrick Kua and Neal Ford</td>\n",
       "      <td>{'name': 'Patrick Kua and Neal Ford'}</td>\n",
       "      <td>[{'term': 'Next Architecture', 'scheme': None,...</td>\n",
       "      <td>https://www.oreilly.com/radar/?p=10503</td>\n",
       "      <td>False</td>\n",
       "      <td>This is a keynote highlight from the O&amp;#8217;R...</td>\n",
       "      <td>{'type': 'text/html', 'language': None, 'base'...</td>\n",
       "      <td>[{'type': 'text/html', 'language': None, 'base...</td>\n",
       "      <td>https://www.oreilly.com/radar/from-the-trenche...</td>\n",
       "      <td>0</td>\n",
       "      <td>https://www.oreilly.com/radar/from-the-trenche...</td>\n",
       "    </tr>\n",
       "  </tbody>\n",
       "</table>\n",
       "</div>"
      ],
      "text/plain": [
       "                                               title  \\\n",
       "0  Bitcoin and the disruption of monetary oppression   \n",
       "1                  Four short links: 8 November 2019   \n",
       "2  Highlights from the O’Reilly Software Architec...   \n",
       "3  Highlights from the O’Reilly Velocity Conferen...   \n",
       "4                     From the trenches: Patrick Kua   \n",
       "\n",
       "                                        title_detail  \\\n",
       "0  {'type': 'text/plain', 'language': None, 'base...   \n",
       "1  {'type': 'text/plain', 'language': None, 'base...   \n",
       "2  {'type': 'text/plain', 'language': None, 'base...   \n",
       "3  {'type': 'text/plain', 'language': None, 'base...   \n",
       "4  {'type': 'text/plain', 'language': None, 'base...   \n",
       "\n",
       "                                               links  \\\n",
       "0  [{'rel': 'alternate', 'type': 'text/html', 'hr...   \n",
       "1  [{'rel': 'alternate', 'type': 'text/html', 'hr...   \n",
       "2  [{'rel': 'alternate', 'type': 'text/html', 'hr...   \n",
       "3  [{'rel': 'alternate', 'type': 'text/html', 'hr...   \n",
       "4  [{'rel': 'alternate', 'type': 'text/html', 'hr...   \n",
       "\n",
       "                                                link  \\\n",
       "0  http://feedproxy.google.com/~r/oreilly/radar/a...   \n",
       "1  http://feedproxy.google.com/~r/oreilly/radar/a...   \n",
       "2  http://feedproxy.google.com/~r/oreilly/radar/a...   \n",
       "3  http://feedproxy.google.com/~r/oreilly/radar/a...   \n",
       "4  http://feedproxy.google.com/~r/oreilly/radar/a...   \n",
       "\n",
       "                                            comments  \\\n",
       "0  https://www.oreilly.com/radar/bitcoin-and-the-...   \n",
       "1  https://www.oreilly.com/radar/four-short-links...   \n",
       "2  https://www.oreilly.com/radar/highlights-from-...   \n",
       "3  https://www.oreilly.com/radar/highlights-from-...   \n",
       "4  https://www.oreilly.com/radar/from-the-trenche...   \n",
       "\n",
       "                         published                      published_parsed  \\\n",
       "0  Fri, 08 Nov 2019 05:10:27 +0000   (2019, 11, 8, 5, 10, 27, 4, 312, 0)   \n",
       "1  Fri, 08 Nov 2019 05:01:04 +0000     (2019, 11, 8, 5, 1, 4, 4, 312, 0)   \n",
       "2  Thu, 07 Nov 2019 20:10:44 +0000  (2019, 11, 7, 20, 10, 44, 3, 311, 0)   \n",
       "3  Thu, 07 Nov 2019 20:09:07 +0000    (2019, 11, 7, 20, 9, 7, 3, 311, 0)   \n",
       "4  Thu, 07 Nov 2019 20:00:48 +0000   (2019, 11, 7, 20, 0, 48, 3, 311, 0)   \n",
       "\n",
       "                                   authors                     author  \\\n",
       "0                  [{'name': 'Jenn Webb'}]                  Jenn Webb   \n",
       "1             [{'name': 'Nat Torkington'}]             Nat Torkington   \n",
       "2                 [{'name': 'Mac Slocum'}]                 Mac Slocum   \n",
       "3                 [{'name': 'Mac Slocum'}]                 Mac Slocum   \n",
       "4  [{'name': 'Patrick Kua and Neal Ford'}]  Patrick Kua and Neal Ford   \n",
       "\n",
       "                           author_detail  \\\n",
       "0                  {'name': 'Jenn Webb'}   \n",
       "1             {'name': 'Nat Torkington'}   \n",
       "2                 {'name': 'Mac Slocum'}   \n",
       "3                 {'name': 'Mac Slocum'}   \n",
       "4  {'name': 'Patrick Kua and Neal Ford'}   \n",
       "\n",
       "                                                tags  \\\n",
       "0  [{'term': 'Innovation & Disruption', 'scheme':...   \n",
       "1  [{'term': 'Four Short Links', 'scheme': None, ...   \n",
       "2  [{'term': 'Next Architecture', 'scheme': None,...   \n",
       "3  [{'term': 'Next Architecture', 'scheme': None,...   \n",
       "4  [{'term': 'Next Architecture', 'scheme': None,...   \n",
       "\n",
       "                                       id  guidislink  \\\n",
       "0   https://www.oreilly.com/radar/?p=9571       False   \n",
       "1  https://www.oreilly.com/radar/?p=10775       False   \n",
       "2  https://www.oreilly.com/radar/?p=10569       False   \n",
       "3  https://www.oreilly.com/radar/?p=10577       False   \n",
       "4  https://www.oreilly.com/radar/?p=10503       False   \n",
       "\n",
       "                                             summary  \\\n",
       "0  In this interview from O&#8217;Reilly Foo Camp...   \n",
       "1  Probabilistic Scripts for Automating Common-Se...   \n",
       "2  Experts from across the software architecture ...   \n",
       "3  People from across the cloud native and distri...   \n",
       "4  This is a keynote highlight from the O&#8217;R...   \n",
       "\n",
       "                                      summary_detail  \\\n",
       "0  {'type': 'text/html', 'language': None, 'base'...   \n",
       "1  {'type': 'text/html', 'language': None, 'base'...   \n",
       "2  {'type': 'text/html', 'language': None, 'base'...   \n",
       "3  {'type': 'text/html', 'language': None, 'base'...   \n",
       "4  {'type': 'text/html', 'language': None, 'base'...   \n",
       "\n",
       "                                             content  \\\n",
       "0  [{'type': 'text/html', 'language': None, 'base...   \n",
       "1  [{'type': 'text/html', 'language': None, 'base...   \n",
       "2  [{'type': 'text/html', 'language': None, 'base...   \n",
       "3  [{'type': 'text/html', 'language': None, 'base...   \n",
       "4  [{'type': 'text/html', 'language': None, 'base...   \n",
       "\n",
       "                                      wfw_commentrss slash_comments  \\\n",
       "0  https://www.oreilly.com/radar/bitcoin-and-the-...              0   \n",
       "1  https://www.oreilly.com/radar/four-short-links...              0   \n",
       "2  https://www.oreilly.com/radar/highlights-from-...              0   \n",
       "3  https://www.oreilly.com/radar/highlights-from-...              0   \n",
       "4  https://www.oreilly.com/radar/from-the-trenche...              0   \n",
       "\n",
       "                                 feedburner_origlink  \n",
       "0  https://www.oreilly.com/radar/bitcoin-and-the-...  \n",
       "1  https://www.oreilly.com/radar/four-short-links...  \n",
       "2  https://www.oreilly.com/radar/highlights-from-...  \n",
       "3  https://www.oreilly.com/radar/highlights-from-...  \n",
       "4  https://www.oreilly.com/radar/from-the-trenche...  "
      ]
     },
     "execution_count": 70,
     "metadata": {},
     "output_type": "execute_result"
    }
   ],
   "source": [
    "df=pd.DataFrame(radar.entries)\n",
    "df.head()"
   ]
  },
  {
   "cell_type": "markdown",
   "metadata": {},
   "source": [
    "### 10. Count the number of entries per author and sort them in descending order."
   ]
  },
  {
   "cell_type": "code",
   "execution_count": null,
   "metadata": {},
   "outputs": [],
   "source": []
  },
  {
   "cell_type": "markdown",
   "metadata": {},
   "source": [
    "### 11. Add a new column to the data frame that contains the length (number of characters) of each entry title. Return a data frame that contains the title, author, and title length of each entry in descending order (longest title length at the top)."
   ]
  },
  {
   "cell_type": "code",
   "execution_count": null,
   "metadata": {},
   "outputs": [],
   "source": []
  },
  {
   "cell_type": "markdown",
   "metadata": {},
   "source": [
    "### 12. Create a list of entry titles whose summary includes the phrase \"machine learning.\""
   ]
  },
  {
   "cell_type": "code",
   "execution_count": null,
   "metadata": {},
   "outputs": [],
   "source": []
  }
 ],
 "metadata": {
  "kernelspec": {
   "display_name": "Python 3",
   "language": "python",
   "name": "python3"
  },
  "language_info": {
   "codemirror_mode": {
    "name": "ipython",
    "version": 3
   },
   "file_extension": ".py",
   "mimetype": "text/x-python",
   "name": "python",
   "nbconvert_exporter": "python",
   "pygments_lexer": "ipython3",
   "version": "3.6.8"
  }
 },
 "nbformat": 4,
 "nbformat_minor": 2
}
