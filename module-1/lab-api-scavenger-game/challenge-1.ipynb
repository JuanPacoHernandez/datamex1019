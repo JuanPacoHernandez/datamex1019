# enter your code below
with open('../.gitignore', 'r') as f:
    acceso=f.readlines()[0].split('=')

user=acceso[0]
key=acceso[1].rstrip('\n')

import json
import requests
import pandas as pd
import time

repo='ironhack-datalabs/madrid-oct-2018'
get_forks='http://api.github.com/repos/'+ repo +'/forks'
res_fork=requests.get(get_forks, auth=(user, key))
res=res_fork.json()
languages=set()
for i in range(len(res)):
    languages.add(res[i]['language'])
print(languages)
lan=[]
for i in range(len(res)):
    lan.append(res[i]['language'])
set(lan)