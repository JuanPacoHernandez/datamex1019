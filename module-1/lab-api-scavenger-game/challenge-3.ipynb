repo='ironhack-datalabs/scavenger'
get_repo='http://api.github.com/repos/{}/git/trees/master?recursive=1'.format(repo)
get_repo=requests.get(get_repo, auth=(user, key))
res=get_repo.json()
res['tree']
res['tree'][7]['path']
url='https://api.github.com/repos/ironhack-datalabs/scavenger/contents/'
tree=res['tree']
archivos=[]
for i in range(len(tree)):
    if tree[i]['type']=='blob' and 'scavengerhunt' in tree[i]['path']:
        #obtengo el path y el contenido del archivo
        get_contenido=requests.get(url + tree[i]['path'])
        contenido=get_contenido.json()
        archivos.append((contenido['name'], contenido['content']))
        time.sleep(1)
archivos.sort()
import base64
frase=''
for texto in archivos:
    frase+=str(base64.b64decode(texto[1]))
frase=frase.replace('b\'', '').replace('\\n\'', ' ')
frase