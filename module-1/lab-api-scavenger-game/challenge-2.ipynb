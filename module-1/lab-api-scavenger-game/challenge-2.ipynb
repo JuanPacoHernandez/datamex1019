repo='ironhack-datalabs/datamad0819'
desde='2017-10-01T00:00:00Z'
hasta='2019-11-04T23:59:59Z'
get_commits='http://api.github.com/repos/{}/commits?since={}&until={}'.format(repo, desde, hasta)
res_commit=requests.get(get_commits, auth=(user, key))
results_commit=res_commit.json()
commits=[]
for i in range(len(results_commit)):
    commits.append(results_commit[i]['committer'])
print(len(commits)) 